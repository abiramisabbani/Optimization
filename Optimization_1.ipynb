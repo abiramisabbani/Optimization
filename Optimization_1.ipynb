{
 "cells": [
  {
   "cell_type": "markdown",
   "id": "eda4cc12",
   "metadata": {},
   "source": [
    "## Classification of MNIST data"
   ]
  },
  {
   "cell_type": "code",
   "execution_count": 1,
   "id": "397a31fb",
   "metadata": {},
   "outputs": [],
   "source": [
    "import numpy as np\n",
    "import pandas as pd\n",
    "import matplotlib.pyplot as plt "
   ]
  },
  {
   "cell_type": "code",
   "execution_count": 3,
   "id": "b8e43fd7",
   "metadata": {},
   "outputs": [],
   "source": [
    "train = pd.read_csv('train.csv', header=None) "
   ]
  },
  {
   "cell_type": "code",
   "execution_count": 9,
   "id": "db48022f",
   "metadata": {},
   "outputs": [],
   "source": [
    "test = pd.read_csv('test.csv', header = None)"
   ]
  },
  {
   "cell_type": "code",
   "execution_count": 119,
   "id": "0198476e",
   "metadata": {},
   "outputs": [],
   "source": [
    "three_train = train[train[0] == 3].iloc[:5000, 1:].to_numpy()\n",
    "five_train = train[train[0] == 5].iloc[:5000, 1:].to_numpy()\n",
    "eight_train = train[train[0] == 8].iloc[:5000, 1:].to_numpy()\n",
    "eight_train_2 = train[train[0] == 8].iloc[:5000, 1:].to_numpy()"
   ]
  },
  {
   "cell_type": "code",
   "execution_count": 120,
   "id": "54cf0044",
   "metadata": {},
   "outputs": [],
   "source": [
    "X = np.zeros((10000, 784))  \n",
    "X2 = np.zeros((10000, 784))\n",
    "\n",
    "y = np.ones(10000)  \n",
    "y[:5000] = -1   \n",
    "y2 = np.ones(10000)  \n",
    "y2[:5000] = -1\n",
    "\n",
    "X[:5000] = three_train \n",
    "X2[:5000] = five_train \n",
    "X[5000:] = eight_train_2  "
   ]
  },
  {
   "cell_type": "code",
   "execution_count": 121,
   "id": "c33da8bb",
   "metadata": {},
   "outputs": [],
   "source": [
    "def cost_function(w, X, y):\n",
    "    return np.log(np.exp(-y * (X @ w)) + 1).sum() / len(X)"
   ]
  },
  {
   "cell_type": "code",
   "execution_count": 122,
   "id": "d0fbaddd",
   "metadata": {},
   "outputs": [],
   "source": [
    "def gradient(w, X, y):\n",
    "    temp_matrix = (-y / (1 + np.exp(y * (X @ w))))[:, np.newaxis] * X\n",
    "    temp_matrix = temp_matrix.sum(axis=0)\n",
    "    temp_matrix = temp_matrix / len(X) \n",
    "    return temp_matrix"
   ]
  },
  {
   "cell_type": "code",
   "execution_count": 123,
   "id": "c96befc3",
   "metadata": {},
   "outputs": [],
   "source": [
    "def gradient_descent(X, y, mu, T):\n",
    "    F_values = [] \n",
    "    w = np.zeros(X.shape[1])  # initialize w \n",
    "    grad = gradient(w, X, y)   \n",
    "    for i in range(0, T):   # Using while loop with other stopping conditions is OK\n",
    "        w -= mu * grad     # update a \n",
    "        grad = gradient(w, X, y)\n",
    "        F_values.append(cost_function(w, X, y))  # store function values F(w)\n",
    "    return w, F_values"
   ]
  },
  {
   "cell_type": "markdown",
   "id": "159db91b",
   "metadata": {},
   "source": [
    "### Digits 3 and 8"
   ]
  },
  {
   "cell_type": "code",
   "execution_count": 124,
   "id": "cd0a477f",
   "metadata": {},
   "outputs": [
    {
     "data": {
      "text/plain": [
       "Text(0, 0.5, 'loss function')"
      ]
     },
     "execution_count": 124,
     "metadata": {},
     "output_type": "execute_result"
    },
    {
     "data": {
      "image/png": "[encoded data removed]",
      "text/plain": [
       "<Figure size 720x432 with 1 Axes>"
      ]
     },
     "metadata": {
      "needs_background": "light"
     },
     "output_type": "display_data"
    }
   ],
   "source": [
    "mu = 1e-6\n",
    "T = 500\n",
    "w, F_values = gradient_descent(X, y, mu, T)  \n",
    "fig, ax = plt.subplots(1, 1, figsize=(10,6))\n",
    "ax.plot(np.arange(1, T+1), F_values)\n",
    "ax.set_title('Loss curve of Gradient Descent')\n",
    "ax.set_xlabel('Iterations')\n",
    "ax.set_ylabel('loss function')"
   ]
  },
  {
   "cell_type": "code",
   "execution_count": 125,
   "id": "4f732a80",
   "metadata": {},
   "outputs": [],
   "source": [
    "three_test = test[test[0] == 3].iloc[:750, 1:].to_numpy()\n",
    "five_test = test[test[0] == 5].iloc[:750, 1:].to_numpy()\n",
    "eight_test = test[test[0] == 8].iloc[:750, 1:].to_numpy()"
   ]
  },
  {
   "cell_type": "code",
   "execution_count": 126,
   "id": "399c09c3",
   "metadata": {},
   "outputs": [],
   "source": [
    "X_test = np.zeros((1500, 784))  \n",
    "X2_test = np.zeros((1500, 784))\n",
    "\n",
    "y_test = np.ones(1500)  \n",
    "y_test[:750] = -1 \n",
    "y2_test = np.ones(1500)\n",
    "y2_test[:750] = -1 \n",
    "\n",
    "X_test[:750] = three_test \n",
    "X2_test[:750] = five_test \n",
    "X_test[750:] = eight_test  "
   ]
  },
  {
   "cell_type": "code",
   "execution_count": null,
   "id": "61f140ce",
   "metadata": {},
   "outputs": [],
   "source": []
  },
  {
   "cell_type": "code",
   "execution_count": null,
   "id": "55225785",
   "metadata": {},
   "outputs": [],
   "source": []
  },
  {
   "cell_type": "code",
   "execution_count": 82,
   "id": "a2d30aba",
   "metadata": {},
   "outputs": [],
   "source": [
    "# X_test = np.zeros((1500, 784))  \n",
    "# y_test = np.ones(1500)\n",
    "# y_test[:750] = -1   \n",
    "# X_test[:750] = test[test[0] == 3].iloc[:750, 1:].to_numpy()  # digit 3\n",
    "# X_test[750:] = test[test[0] == 8].iloc[:750, 1:].to_numpy()  # digit 8"
   ]
  },
  {
   "cell_type": "code",
   "execution_count": 127,
   "id": "a73c4324",
   "metadata": {},
   "outputs": [],
   "source": [
    "train_predictions = np.sign(X @ w)\n",
    "train_accuracy = np.mean(train_predictions == y) "
   ]
  },
  {
   "cell_type": "code",
   "execution_count": 128,
   "id": "1575f4b1",
   "metadata": {},
   "outputs": [],
   "source": [
    "test_predictions = np.sign(X_test @ w)  \n",
    "test_accuracy = np.mean(test_predictions == y_test) "
   ]
  },
  {
   "cell_type": "code",
   "execution_count": 129,
   "id": "1c79cd3f",
   "metadata": {},
   "outputs": [
    {
     "name": "stdout",
     "output_type": "stream",
     "text": [
      "Training Accuracy:\t0.9595\n",
      "Test Accuracy:\t0.9627\n"
     ]
    }
   ],
   "source": [
    "print(f\"Training Accuracy:\\t{train_accuracy:.4f}\\nTest Accuracy:\\t{test_accuracy:.4f}\")"
   ]
  },
  {
   "cell_type": "markdown",
   "id": "c1fd1c89",
   "metadata": {},
   "source": [
    "### Digits 5 and 8"
   ]
  },
  {
   "cell_type": "code",
   "execution_count": 86,
   "id": "033db57a",
   "metadata": {},
   "outputs": [],
   "source": [
    "# X2 = np.zeros((10000, 784))  # data matrix\n",
    "# y2 = np.ones(10000)   # label vector\n",
    "# y2[:5000] = -1   \n",
    "# X2[:5000] = train[train[0] == 5].iloc[:5000, 1:].to_numpy()  # digit 5\n",
    "# X2[5000:] = train[train[0] == 8].iloc[:5000, 1:].to_numpy()  # digit 8"
   ]
  },
  {
   "cell_type": "code",
   "execution_count": 130,
   "id": "54a6ae45",
   "metadata": {},
   "outputs": [
    {
     "data": {
      "text/plain": [
       "Text(0, 0.5, 'loss function')"
      ]
     },
     "execution_count": 130,
     "metadata": {},
     "output_type": "execute_result"
    },
    {
     "data": {
      "image/png": "[encoded data removed]",
      "text/plain": [
       "<Figure size 720x432 with 1 Axes>"
      ]
     },
     "metadata": {
      "needs_background": "light"
     },
     "output_type": "display_data"
    }
   ],
   "source": [
    "mu = 1e-6\n",
    "T = 500\n",
    "w, F_values = gradient_descent(X2, y2, mu, T)  \n",
    "fig, ax = plt.subplots(1, 1, figsize=(10,6))\n",
    "ax.plot(np.arange(1, T+1), F_values)\n",
    "ax.set_title('Loss curve of Gradient Descent')\n",
    "ax.set_xlabel('Iterations')\n",
    "ax.set_ylabel('loss function')"
   ]
  },
  {
   "cell_type": "code",
   "execution_count": 131,
   "id": "1fdfef4c",
   "metadata": {},
   "outputs": [],
   "source": [
    "# X2_test = np.zeros((1500, 784))  \n",
    "# y2_test = np.ones(1500)\n",
    "# y2_test[:750] = -1   \n",
    "# X2_test[:750] = test[test[0] == 5].iloc[:750, 1:].to_numpy()  # digit 5\n",
    "# X2_test[750:] = test[test[0] == 8].iloc[:750, 1:].to_numpy()  # digit 8"
   ]
  },
  {
   "cell_type": "code",
   "execution_count": 132,
   "id": "6e91c0d5",
   "metadata": {},
   "outputs": [],
   "source": [
    "train_predictions2 = np.sign(X2 @ w)\n",
    "train_accuracy2 = np.mean(train_predictions == y2) "
   ]
  },
  {
   "cell_type": "code",
   "execution_count": 133,
   "id": "ded3b94b",
   "metadata": {},
   "outputs": [],
   "source": [
    "test_predictions2 = np.sign(X2_test @ w)  \n",
    "test_accuracy2 = np.mean(test_predictions2 == y2_test) "
   ]
  },
  {
   "cell_type": "code",
   "execution_count": 134,
   "id": "63eba181",
   "metadata": {},
   "outputs": [
    {
     "name": "stdout",
     "output_type": "stream",
     "text": [
      "Training Accuracy:\t0.9595\n",
      "Test Accuracy:\t0.5000\n"
     ]
    }
   ],
   "source": [
    "print(f\"Training Accuracy:\\t{train_accuracy2:.4f}\\nTest Accuracy:\\t{test_accuracy2:.4f}\")"
   ]
  },
  {
   "cell_type": "code",
   "execution_count": null,
   "id": "2ab4324c",
   "metadata": {},
   "outputs": [],
   "source": [
    "four_train_500 = d_train[d_train[0] == 4].iloc[:500, 1:].to_numpy()\n",
    "nine_train_500 = d_train[d_train[0] == 9].iloc[:500, 1:].to_numpy()\n",
    "\n",
    "X = np.zeros((1000, 784))  \n",
    "y = np.ones(1000)  \n",
    "y[:500] = -1   \n",
    "X[:500] = four_train_500  \n",
    "X[500:] = nine_train_500  \n",
    "\n",
    "\n",
    "\n",
    "\n",
    "\n",
    "X[:500] = data_train[data_train[0] == 4].iloc[:500, 1:].to_numpy()  # digit 4\n",
    "\n",
    "\n",
    "\n",
    "\n",
    "\n"
   ]
  }
 ],
 "metadata": {
  "kernelspec": {
   "display_name": "Python 3",
   "language": "python",
   "name": "python3"
  },
  "language_info": {
   "codemirror_mode": {
    "name": "ipython",
    "version": 3
   },
   "file_extension": ".py",
   "mimetype": "text/x-python",
   "name": "python",
   "nbconvert_exporter": "python",
   "pygments_lexer": "ipython3",
   "version": "3.8.8"
  }
 },
 "nbformat": 4,
 "nbformat_minor": 5
}
